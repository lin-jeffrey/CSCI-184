{
 "cells": [
  {
   "cell_type": "markdown",
   "metadata": {
    "colab_type": "text",
    "id": "GwUGWNG-K86L"
   },
   "source": [
    "## Homework 2\n",
    "*For any questions or concerns please email your instructor at `smanna@scu.edu`*\n",
    "### Due - 05/04/2020 - 11:59p - 20 points\n",
    "\n",
    "**Name:** Jeffrey Lin\n",
    "\n",
    "**Email:**  jlin7@scu.edu\n",
    "\n",
    "**Objectives:** The main aim of this homework is to make you conversant with `Perceptron Training Rule` and use it as a simple binary classifier.\n",
    "\n",
    "**Submission Instructions:** \n",
    "* Please download `hw2.ipynb`, `train.csv`, and `test.csv` files and insert cells in the `hw2.ipynb` to complete your homework and submit the same file to Camino under `Homework` $\\rightarrow$ `hw2`.\n",
    "* Please make sure you type your `Name` and `Email` on top of your submission file in the placeholder above. \n",
    "\n",
    "**Honor Code:** You are expected to complete the homework on your own. Solutions might exist elsewhere, but you are not allowed to copy them. "
   ]
  },
  {
   "cell_type": "markdown",
   "metadata": {
    "colab_type": "text",
    "id": "DPQE0TdlK86M"
   },
   "source": [
    "### Problem Statement\n",
    "You are given a dataset of different `Iris` flower species. The original [dataset](https://archive.ics.uci.edu/ml/datasets/iris) has detailed description of all the characteristics of the flowers. Please feel free to visit the original page to know more about the dataset. Your task is to develop a simple linear binary classifier using `perceptron training rule` and `delta rule using batch gradient descent` to categorize the flowers based on their species.\n",
    "\n",
    "**Adaptation**: To make the dataset work for this *homework*, we have modified the original dataset. You can use `train.csv` to train the parameters of your model and then use `test.csv` to test your model on some unknown dataset.\n",
    "\n",
    "**Evaluation**: We have set aside another dataset similar to `test.csv` which will not be disclosed to you. We will use that dataset to evaluate your algorithm. This is just to make sure that you do not have any hard-coded parameters in your code.\n",
    "\n",
    "**Note**: Please make sure you have proper comments and explanation/justification of the steps you have coded. Please feel to add extra cells to complete all the `TODO` stubs. You are allowed to create your own utility functions to support your code."
   ]
  },
  {
   "cell_type": "code",
   "execution_count": 1,
   "metadata": {
    "colab": {},
    "colab_type": "code",
    "id": "DcJ3CEhfK86N"
   },
   "outputs": [],
   "source": [
    "import matplotlib.pyplot as plt\n",
    "import pandas as pd\n",
    "import numpy as np\n",
    "import math\n",
    "%matplotlib inline"
   ]
  },
  {
   "cell_type": "code",
   "execution_count": 2,
   "metadata": {},
   "outputs": [],
   "source": [
    "# Define headers since the dataset does not have any headers\n",
    "col_names = [\"sepal_length\", \"sepal_width\", \"petal_length\", \"petal_width\", \"species\"]"
   ]
  },
  {
   "cell_type": "code",
   "execution_count": 3,
   "metadata": {
    "colab": {},
    "colab_type": "code",
    "id": "-0NZTj_2K86T"
   },
   "outputs": [],
   "source": [
    "# Import csv file into pandas dataframe'\n",
    "# TODO\n",
    "fnametrain ='train.csv'\n",
    "traindata = pd.read_csv(fnametrain, names = col_names)"
   ]
  },
  {
   "cell_type": "code",
   "execution_count": 4,
   "metadata": {
    "colab": {},
    "colab_type": "code",
    "id": "rKWSM8KHK86W"
   },
   "outputs": [
    {
     "data": {
      "text/html": [
       "<div>\n",
       "<style scoped>\n",
       "    .dataframe tbody tr th:only-of-type {\n",
       "        vertical-align: middle;\n",
       "    }\n",
       "\n",
       "    .dataframe tbody tr th {\n",
       "        vertical-align: top;\n",
       "    }\n",
       "\n",
       "    .dataframe thead th {\n",
       "        text-align: right;\n",
       "    }\n",
       "</style>\n",
       "<table border=\"1\" class=\"dataframe\">\n",
       "  <thead>\n",
       "    <tr style=\"text-align: right;\">\n",
       "      <th></th>\n",
       "      <th>sepal_length</th>\n",
       "      <th>sepal_width</th>\n",
       "      <th>petal_length</th>\n",
       "      <th>petal_width</th>\n",
       "      <th>species</th>\n",
       "    </tr>\n",
       "  </thead>\n",
       "  <tbody>\n",
       "    <tr>\n",
       "      <th>0</th>\n",
       "      <td>0.794872</td>\n",
       "      <td>0.410256</td>\n",
       "      <td>0.756410</td>\n",
       "      <td>0.307692</td>\n",
       "      <td>0</td>\n",
       "    </tr>\n",
       "    <tr>\n",
       "      <th>1</th>\n",
       "      <td>0.551282</td>\n",
       "      <td>0.371795</td>\n",
       "      <td>0.153846</td>\n",
       "      <td>0.012821</td>\n",
       "      <td>1</td>\n",
       "    </tr>\n",
       "    <tr>\n",
       "      <th>2</th>\n",
       "      <td>0.628205</td>\n",
       "      <td>0.243590</td>\n",
       "      <td>0.435897</td>\n",
       "      <td>0.115385</td>\n",
       "      <td>1</td>\n",
       "    </tr>\n",
       "    <tr>\n",
       "      <th>3</th>\n",
       "      <td>0.628205</td>\n",
       "      <td>0.410256</td>\n",
       "      <td>0.166667</td>\n",
       "      <td>0.012821</td>\n",
       "      <td>1</td>\n",
       "    </tr>\n",
       "    <tr>\n",
       "      <th>4</th>\n",
       "      <td>0.628205</td>\n",
       "      <td>0.397436</td>\n",
       "      <td>0.141026</td>\n",
       "      <td>0.012821</td>\n",
       "      <td>1</td>\n",
       "    </tr>\n",
       "    <tr>\n",
       "      <th>5</th>\n",
       "      <td>0.820513</td>\n",
       "      <td>0.371795</td>\n",
       "      <td>0.653846</td>\n",
       "      <td>0.243590</td>\n",
       "      <td>0</td>\n",
       "    </tr>\n",
       "    <tr>\n",
       "      <th>6</th>\n",
       "      <td>0.782051</td>\n",
       "      <td>0.358974</td>\n",
       "      <td>0.538462</td>\n",
       "      <td>0.153846</td>\n",
       "      <td>1</td>\n",
       "    </tr>\n",
       "    <tr>\n",
       "      <th>7</th>\n",
       "      <td>0.628205</td>\n",
       "      <td>0.423077</td>\n",
       "      <td>0.192308</td>\n",
       "      <td>0.038462</td>\n",
       "      <td>1</td>\n",
       "    </tr>\n",
       "    <tr>\n",
       "      <th>8</th>\n",
       "      <td>0.730769</td>\n",
       "      <td>0.333333</td>\n",
       "      <td>0.512821</td>\n",
       "      <td>0.115385</td>\n",
       "      <td>1</td>\n",
       "    </tr>\n",
       "    <tr>\n",
       "      <th>9</th>\n",
       "      <td>0.910256</td>\n",
       "      <td>0.397436</td>\n",
       "      <td>0.756410</td>\n",
       "      <td>0.217949</td>\n",
       "      <td>0</td>\n",
       "    </tr>\n",
       "  </tbody>\n",
       "</table>\n",
       "</div>"
      ],
      "text/plain": [
       "   sepal_length  sepal_width  petal_length  petal_width  species\n",
       "0      0.794872     0.410256      0.756410     0.307692        0\n",
       "1      0.551282     0.371795      0.153846     0.012821        1\n",
       "2      0.628205     0.243590      0.435897     0.115385        1\n",
       "3      0.628205     0.410256      0.166667     0.012821        1\n",
       "4      0.628205     0.397436      0.141026     0.012821        1\n",
       "5      0.820513     0.371795      0.653846     0.243590        0\n",
       "6      0.782051     0.358974      0.538462     0.153846        1\n",
       "7      0.628205     0.423077      0.192308     0.038462        1\n",
       "8      0.730769     0.333333      0.512821     0.115385        1\n",
       "9      0.910256     0.397436      0.756410     0.217949        0"
      ]
     },
     "execution_count": 4,
     "metadata": {},
     "output_type": "execute_result"
    }
   ],
   "source": [
    "# print first 10 rows of the training data\n",
    "# TODO\n",
    "traindata.head(10)"
   ]
  },
  {
   "cell_type": "code",
   "execution_count": 5,
   "metadata": {
    "colab": {},
    "colab_type": "code",
    "id": "53lwjrLbK86Z"
   },
   "outputs": [
    {
     "data": {
      "text/plain": [
       "560"
      ]
     },
     "execution_count": 5,
     "metadata": {},
     "output_type": "execute_result"
    }
   ],
   "source": [
    "# find the number of training data\n",
    "# TODO\n",
    "traindata.size"
   ]
  },
  {
   "cell_type": "code",
   "execution_count": 6,
   "metadata": {
    "colab": {},
    "colab_type": "code",
    "id": "RkVGYpgjK86c"
   },
   "outputs": [
    {
     "data": {
      "text/plain": [
       "sepal_length    float64\n",
       "sepal_width     float64\n",
       "petal_length    float64\n",
       "petal_width     float64\n",
       "species           int64\n",
       "dtype: object"
      ]
     },
     "execution_count": 6,
     "metadata": {},
     "output_type": "execute_result"
    }
   ],
   "source": [
    "# check the data types for each columns of your dataset\n",
    "# TODO\n",
    "traindata.dtypes"
   ]
  },
  {
   "cell_type": "code",
   "execution_count": 7,
   "metadata": {
    "colab": {},
    "colab_type": "code",
    "id": "B-LrNwUkK86e"
   },
   "outputs": [],
   "source": [
    "# Separating features and store in X_train\n",
    "# TODO\n",
    "X_train = traindata[[\"sepal_length\", \"sepal_width\", \"petal_length\", \"petal_width\"]]"
   ]
  },
  {
   "cell_type": "code",
   "execution_count": 8,
   "metadata": {
    "colab": {},
    "colab_type": "code",
    "id": "pp4-lg8vK86l"
   },
   "outputs": [],
   "source": [
    "# Assigning y_train (species) from the dataset\n",
    "# TODO\n",
    "y_train = traindata['species']"
   ]
  },
  {
   "cell_type": "code",
   "execution_count": 9,
   "metadata": {
    "colab": {},
    "colab_type": "code",
    "id": "qc71WGDLK86o"
   },
   "outputs": [
    {
     "data": {
      "text/plain": [
       "112"
      ]
     },
     "execution_count": 9,
     "metadata": {},
     "output_type": "execute_result"
    }
   ],
   "source": [
    "# find the number of y values in the training dataset\n",
    "# TODO\n",
    "y_train.size"
   ]
  },
  {
   "cell_type": "markdown",
   "metadata": {
    "colab_type": "text",
    "id": "7M74uReTK86r"
   },
   "source": [
    "**Activation functions**: You have to implement two different activation functions, `sgn` and `sigmoid`."
   ]
  },
  {
   "cell_type": "code",
   "execution_count": 10,
   "metadata": {
    "colab": {},
    "colab_type": "code",
    "id": "ws6PzRfhK86r"
   },
   "outputs": [],
   "source": [
    "# implementation of sign activation\n",
    "#def sgn(x): # if x > 0 then return 1, and 0 otherwise\n",
    "# TODO\n",
    "def sgn(x):\n",
    "    if x > 0:\n",
    "        return 1\n",
    "    else:\n",
    "        return 0"
   ]
  },
  {
   "cell_type": "code",
   "execution_count": 11,
   "metadata": {
    "colab": {},
    "colab_type": "code",
    "id": "9RS1051DK86u"
   },
   "outputs": [],
   "source": [
    "# implementation of sigmoid activation\n",
    "#def sigmoid(x):\n",
    "# TODO\n",
    "def sigmoid(x):\n",
    "    return 1.0 / (1.0 + np.exp(-x)) "
   ]
  },
  {
   "cell_type": "markdown",
   "metadata": {
    "colab_type": "text",
    "id": "J2Twe_08K86z"
   },
   "source": [
    "**Training Rules**"
   ]
  },
  {
   "cell_type": "code",
   "execution_count": 12,
   "metadata": {},
   "outputs": [],
   "source": [
    "NUM_FEATURES = 4"
   ]
  },
  {
   "cell_type": "code",
   "execution_count": 13,
   "metadata": {
    "colab": {},
    "colab_type": "code",
    "id": "m_gmelsbK860"
   },
   "outputs": [],
   "source": [
    "# implementation of perceptron training algorithm\n",
    "def PTR(X, y, num_iter, learning_rate, activation_func):\n",
    "    N, d = np.shape(X) # number of samples and number of features\n",
    "    W = np.zeros(NUM_FEATURES, np.float32) # 2x1, weight\n",
    "    b = np.zeros(1, np.float32) # 1x1\n",
    "    for k in range(num_iter):\n",
    "       for j in range(N): #N = Number of samples\n",
    "         yHat_j = X.iloc[j, :].dot(W) + b # 1x2, 2x1\n",
    "         yHat_j = activation_func(yHat_j) # activation function\n",
    "         \n",
    "         err = y[j] - yHat_j # error term\n",
    "         deltaW = err * X.iloc[j, :]\n",
    "         \n",
    "         deltaB = err\n",
    "         W = W + learning_rate * deltaW # if err = y - yHat, then W = W + lRate * deltW\n",
    "         b = b + learning_rate * deltaB\n",
    "    return W, b"
   ]
  },
  {
   "cell_type": "code",
   "execution_count": 14,
   "metadata": {
    "colab": {},
    "colab_type": "code",
    "id": "EELH9hKXK862"
   },
   "outputs": [],
   "source": [
    "# implementation of delta rule using batch gradient decent\n",
    "def BGD(X, y, num_iter, learning_rate):\n",
    "#     TODO\n",
    "#    return W, b, cost \n",
    "    N, d = np.shape(X_train) # number of samples and number of features\n",
    "\n",
    "    cost = np.zeros(num_iter) \n",
    "    W = np.zeros((NUM_FEATURES), np.float32) # 3x1, weight\n",
    "    b = 0 # 1x1\n",
    "\n",
    "    for k in range(num_iter):\n",
    "        yHat = np.dot(X, W) + b\n",
    "        err = y - yHat\n",
    "        W += learning_rate * X.T.dot(err)\n",
    "        b += learning_rate * err.sum() # err.sum() == np.ones((1, N)).dot(err)[0][0]\n",
    "        cost[k] = (err**2).sum() / 2.0\n",
    "    return W, b, cost "
   ]
  },
  {
   "cell_type": "code",
   "execution_count": 15,
   "metadata": {
    "colab": {},
    "colab_type": "code",
    "id": "1MK_PuX0K864"
   },
   "outputs": [],
   "source": [
    "# Learning parameters using Batch Gradient Descent for training\n",
    "W_bgd, b_bgd, cost_bgd = BGD(X_train, y_train, 2500, 0.001) \n",
    "# try out with different num_iterations, and learning_rate"
   ]
  },
  {
   "cell_type": "code",
   "execution_count": 16,
   "metadata": {
    "colab": {},
    "colab_type": "code",
    "id": "B22RvGMMK866"
   },
   "outputs": [
    {
     "data": {
      "image/png": "[encoded data removed]",
      "text/plain": [
       "<Figure size 432x288 with 1 Axes>"
      ]
     },
     "metadata": {
      "needs_background": "light"
     },
     "output_type": "display_data"
    }
   ],
   "source": [
    "# plot cost (as computed in batch gradient descent)\n",
    "# with `No. of iterations` in x-axis, and `Cost` in y-axis\n",
    "# TODO\n",
    "plt.plot(cost_bgd)\n",
    "plt.xlabel(\"# iterations\")\n",
    "plt.ylabel(\"cost\")\n",
    "plt.show()"
   ]
  },
  {
   "cell_type": "code",
   "execution_count": 17,
   "metadata": {
    "colab": {},
    "colab_type": "code",
    "id": "_djkrL9IK868"
   },
   "outputs": [],
   "source": [
    "# Learning parameters using Perceptron training rule function\n",
    "W_ptr, b_ptr = PTR(X_train, y_train, 1000, 0.01, sigmoid)\n",
    "# try out with different num_iterations, and learning_rate"
   ]
  },
  {
   "cell_type": "markdown",
   "metadata": {
    "colab_type": "text",
    "id": "OwmDetM1K86-"
   },
   "source": [
    "**Prediction Begins**: I have provided you with two utility functions `Identity` and `predict` which you will need to use it on test data."
   ]
  },
  {
   "cell_type": "code",
   "execution_count": 18,
   "metadata": {
    "colab": {},
    "colab_type": "code",
    "id": "GIqaUbMpK86_"
   },
   "outputs": [],
   "source": [
    "# An activation, that does nothing. Used to disable activation_function.\n",
    "def Identity(x):\n",
    "    return x\n",
    "\n",
    "# The neural network thinks.\n",
    "def predict(x_test, weights, bias, activation_func=Identity):\n",
    "    return activation_func(np.dot(x_test, weights) + bias)"
   ]
  },
  {
   "cell_type": "code",
   "execution_count": 19,
   "metadata": {
    "colab": {},
    "colab_type": "code",
    "id": "tEg3XYhDK87B"
   },
   "outputs": [],
   "source": [
    "# Read test data into pandas dataframe\n",
    "# TODO\n",
    "fnametest = 'test.csv'\n",
    "testdata = pd.read_csv(fnametest, names = col_names)"
   ]
  },
  {
   "cell_type": "code",
   "execution_count": 20,
   "metadata": {
    "colab": {},
    "colab_type": "code",
    "id": "js2riI8ZK87D",
    "scrolled": true
   },
   "outputs": [
    {
     "data": {
      "text/html": [
       "<div>\n",
       "<style scoped>\n",
       "    .dataframe tbody tr th:only-of-type {\n",
       "        vertical-align: middle;\n",
       "    }\n",
       "\n",
       "    .dataframe tbody tr th {\n",
       "        vertical-align: top;\n",
       "    }\n",
       "\n",
       "    .dataframe thead th {\n",
       "        text-align: right;\n",
       "    }\n",
       "</style>\n",
       "<table border=\"1\" class=\"dataframe\">\n",
       "  <thead>\n",
       "    <tr style=\"text-align: right;\">\n",
       "      <th></th>\n",
       "      <th>sepal_length</th>\n",
       "      <th>sepal_width</th>\n",
       "      <th>petal_length</th>\n",
       "      <th>petal_width</th>\n",
       "      <th>species</th>\n",
       "    </tr>\n",
       "  </thead>\n",
       "  <tbody>\n",
       "    <tr>\n",
       "      <th>0</th>\n",
       "      <td>0.858974</td>\n",
       "      <td>0.346154</td>\n",
       "      <td>0.602564</td>\n",
       "      <td>0.166667</td>\n",
       "      <td>1</td>\n",
       "    </tr>\n",
       "    <tr>\n",
       "      <th>1</th>\n",
       "      <td>0.794872</td>\n",
       "      <td>0.307692</td>\n",
       "      <td>0.615385</td>\n",
       "      <td>0.179487</td>\n",
       "      <td>1</td>\n",
       "    </tr>\n",
       "    <tr>\n",
       "      <th>2</th>\n",
       "      <td>0.794872</td>\n",
       "      <td>0.282051</td>\n",
       "      <td>0.551282</td>\n",
       "      <td>0.153846</td>\n",
       "      <td>1</td>\n",
       "    </tr>\n",
       "    <tr>\n",
       "      <th>3</th>\n",
       "      <td>0.974359</td>\n",
       "      <td>0.474359</td>\n",
       "      <td>0.846154</td>\n",
       "      <td>0.269231</td>\n",
       "      <td>0</td>\n",
       "    </tr>\n",
       "    <tr>\n",
       "      <th>4</th>\n",
       "      <td>0.717949</td>\n",
       "      <td>0.358974</td>\n",
       "      <td>0.525641</td>\n",
       "      <td>0.153846</td>\n",
       "      <td>1</td>\n",
       "    </tr>\n",
       "    <tr>\n",
       "      <th>5</th>\n",
       "      <td>0.756410</td>\n",
       "      <td>0.333333</td>\n",
       "      <td>0.641026</td>\n",
       "      <td>0.192308</td>\n",
       "      <td>1</td>\n",
       "    </tr>\n",
       "    <tr>\n",
       "      <th>6</th>\n",
       "      <td>0.730769</td>\n",
       "      <td>0.320513</td>\n",
       "      <td>0.500000</td>\n",
       "      <td>0.141026</td>\n",
       "      <td>1</td>\n",
       "    </tr>\n",
       "    <tr>\n",
       "      <th>7</th>\n",
       "      <td>0.858974</td>\n",
       "      <td>0.371795</td>\n",
       "      <td>0.692308</td>\n",
       "      <td>0.256410</td>\n",
       "      <td>0</td>\n",
       "    </tr>\n",
       "    <tr>\n",
       "      <th>8</th>\n",
       "      <td>0.615385</td>\n",
       "      <td>0.294872</td>\n",
       "      <td>0.410256</td>\n",
       "      <td>0.115385</td>\n",
       "      <td>1</td>\n",
       "    </tr>\n",
       "    <tr>\n",
       "      <th>9</th>\n",
       "      <td>0.705128</td>\n",
       "      <td>0.346154</td>\n",
       "      <td>0.615385</td>\n",
       "      <td>0.243590</td>\n",
       "      <td>0</td>\n",
       "    </tr>\n",
       "  </tbody>\n",
       "</table>\n",
       "</div>"
      ],
      "text/plain": [
       "   sepal_length  sepal_width  petal_length  petal_width  species\n",
       "0      0.858974     0.346154      0.602564     0.166667        1\n",
       "1      0.794872     0.307692      0.615385     0.179487        1\n",
       "2      0.794872     0.282051      0.551282     0.153846        1\n",
       "3      0.974359     0.474359      0.846154     0.269231        0\n",
       "4      0.717949     0.358974      0.525641     0.153846        1\n",
       "5      0.756410     0.333333      0.641026     0.192308        1\n",
       "6      0.730769     0.320513      0.500000     0.141026        1\n",
       "7      0.858974     0.371795      0.692308     0.256410        0\n",
       "8      0.615385     0.294872      0.410256     0.115385        1\n",
       "9      0.705128     0.346154      0.615385     0.243590        0"
      ]
     },
     "execution_count": 20,
     "metadata": {},
     "output_type": "execute_result"
    }
   ],
   "source": [
    "# print first 10 rows of the test data\n",
    "# TODO\n",
    "testdata.head(10)"
   ]
  },
  {
   "cell_type": "code",
   "execution_count": 21,
   "metadata": {
    "colab": {},
    "colab_type": "code",
    "id": "0lJOlFIHK87K"
   },
   "outputs": [],
   "source": [
    "# features of test\n",
    "# Separating feature and output columns from the dataset and store in X_test\n",
    "# TODO\n",
    "X_test = testdata[[\"sepal_length\", \"sepal_width\", \"petal_length\", \"petal_width\"]]"
   ]
  },
  {
   "cell_type": "code",
   "execution_count": 22,
   "metadata": {
    "colab": {},
    "colab_type": "code",
    "id": "33DL9yTUK87M"
   },
   "outputs": [],
   "source": [
    "# store actual output (target) into y_test\n",
    "# TODO\n",
    "y_test = testdata['species']"
   ]
  },
  {
   "cell_type": "code",
   "execution_count": 27,
   "metadata": {
    "colab": {},
    "colab_type": "code",
    "id": "1Xjy9hzFK87O"
   },
   "outputs": [],
   "source": [
    "# Compute predictions with X_test\n",
    "y_pred_ptr = predict(X_test, W_ptr, b_ptr, sigmoid) # feel free to explore results using `sgn` activation function\n",
    "y_pred_bgd = predict(X_test, W_bgd, b_bgd)"
   ]
  },
  {
   "cell_type": "code",
   "execution_count": 28,
   "metadata": {},
   "outputs": [
    {
     "name": "stdout",
     "output_type": "stream",
     "text": [
      "[0.58694515 0.4808575  0.71698518 0.03355405 0.80956414 0.38230429\n",
      " 0.85801345 0.17600084 0.95613271 0.3624916  0.99931483 0.83865706\n",
      " 0.88376281 0.11654153 0.7057043  0.08417539 0.44118397 0.99946448\n",
      " 0.79687306]\n"
     ]
    }
   ],
   "source": [
    "print(y_pred_ptr)"
   ]
  },
  {
   "cell_type": "code",
   "execution_count": 29,
   "metadata": {},
   "outputs": [
    {
     "name": "stdout",
     "output_type": "stream",
     "text": [
      "[0.49895535 0.47187252 0.58636082 0.06698166 0.57163822 0.40989641\n",
      " 0.63387366 0.27738235 0.75646942 0.36266007 1.10316567 0.57897421\n",
      " 0.66436456 0.20931521 0.49807417 0.2445012  0.39558643 1.0941766\n",
      " 0.57924812]\n"
     ]
    }
   ],
   "source": [
    "print(y_pred_bgd)"
   ]
  },
  {
   "cell_type": "markdown",
   "metadata": {
    "colab_type": "text",
    "id": "yz6Zq2qdK87Q"
   },
   "source": [
    "**Evaluation Metrics** We will evaluate our predictions using `Root Mean Squared Error`"
   ]
  },
  {
   "cell_type": "code",
   "execution_count": 30,
   "metadata": {
    "colab": {},
    "colab_type": "code",
    "id": "fdPRwO4dK87Q"
   },
   "outputs": [],
   "source": [
    "# Evaluate using RMSE\n",
    "def RMSE(target, output):\n",
    "    return math.sqrt(((target - output) ** 2).mean(axis=None))\n"
   ]
  },
  {
   "cell_type": "code",
   "execution_count": 31,
   "metadata": {
    "colab": {},
    "colab_type": "code",
    "id": "ePvRkJujK87Z"
   },
   "outputs": [
    {
     "name": "stdout",
     "output_type": "stream",
     "text": [
      "('the rmse is: ', 0.28156946527540455)\n"
     ]
    }
   ],
   "source": [
    "rmse_ptr = RMSE(y_test, y_pred_ptr)\n",
    "print('the rmse is: ', rmse_ptr)"
   ]
  },
  {
   "cell_type": "code",
   "execution_count": 32,
   "metadata": {
    "colab": {},
    "colab_type": "code",
    "id": "8qMqjF3ZK87c"
   },
   "outputs": [
    {
     "name": "stdout",
     "output_type": "stream",
     "text": [
      "('the rmse is: ', 0.3725836923415349)\n"
     ]
    }
   ],
   "source": [
    "rmse_bgd = RMSE(y_test, y_pred_bgd)\n",
    "print('the rmse is: ', rmse_bgd)"
   ]
  },
  {
   "cell_type": "code",
   "execution_count": null,
   "metadata": {},
   "outputs": [],
   "source": []
  }
 ],
 "metadata": {
  "colab": {
   "name": "hw2.ipynb",
   "provenance": []
  },
  "kernelspec": {
   "display_name": "Python 2",
   "language": "python",
   "name": "python2"
  },
  "language_info": {
   "codemirror_mode": {
    "name": "ipython",
    "version": 2
   },
   "file_extension": ".py",
   "mimetype": "text/x-python",
   "name": "python",
   "nbconvert_exporter": "python",
   "pygments_lexer": "ipython2",
   "version": "2.7.17"
  }
 },
 "nbformat": 4,
 "nbformat_minor": 1
}
